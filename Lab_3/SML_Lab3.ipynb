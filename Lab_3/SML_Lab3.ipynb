{
  "nbformat": 4,
  "nbformat_minor": 0,
  "metadata": {
    "colab": {
      "provenance": []
    },
    "kernelspec": {
      "display_name": "Python 3",
      "name": "python3"
    },
    "language_info": {
      "name": "python"
    }
  },
  "cells": [
    {
      "cell_type": "code",
      "metadata": {
        "id": "KouoR3B_ApZ_"
      },
      "source": [
        "import scipy.optimize as spo\n",
        "import numpy as np\n",
        "import matplotlib.pyplot as plt\n",
        "import seaborn as sb\n",
        "import pandas as pd"
      ],
      "execution_count": null,
      "outputs": []
    },
    {
      "cell_type": "code",
      "metadata": {
        "id": "tAuSVGphcW_h"
      },
      "source": [
        "#Question 1\n",
        "def objective1(x):\n",
        "  return -(x**2/10000)-(4*x/50)+65+(10000/(2*x))"
      ],
      "execution_count": null,
      "outputs": []
    },
    {
      "cell_type": "code",
      "metadata": {
        "id": "RGekIW6TgC_B"
      },
      "source": [
        "def cons1(x):\n",
        "  return x\n",
        "con = {'type': 'ineq', 'fun': cons1}"
      ],
      "execution_count": null,
      "outputs": []
    },
    {
      "cell_type": "code",
      "metadata": {
        "colab": {
          "base_uri": "https://localhost:8080/"
        },
        "id": "BPjqtoaMdLWx",
        "outputId": "4dab0696-eb5f-42e7-dbc6-010780a0ed74"
      },
      "source": [
        "x0=1\n",
        "result=spo.minimize(objective1,x0,method='SLSQP',constraints=con,options={\"disp\": True})\n",
        "x=result.x\n",
        "print(x[0])\n",
        "print(-objective1(x))"
      ],
      "execution_count": null,
      "outputs": [
        {
          "output_type": "stream",
          "name": "stdout",
          "text": [
            "Optimization terminated successfully.    (Exit mode 0)\n",
            "            Current function value: -133855996968247.47\n",
            "            Iterations: 21\n",
            "            Function evaluations: 73\n",
            "            Gradient evaluations: 21\n",
            "1156961124.7203705\n",
            "[1.33855997e+14]\n"
          ]
        }
      ]
    },
    {
      "cell_type": "code",
      "metadata": {
        "colab": {
          "base_uri": "https://localhost:8080/",
          "height": 265
        },
        "id": "_hIOKuiO90Lw",
        "outputId": "33fdad76-bb9d-43d6-a4eb-9b51e9da0a1f"
      },
      "source": [
        "input=np.arange(0.0,6.0,0.1)\n",
        "results=[-objective1(input)]\n",
        "plt.scatter(input,results)\n",
        "plt.show()"
      ],
      "execution_count": null,
      "outputs": [
        {
          "output_type": "display_data",
          "data": {
            "image/png": "[encoded data removed]",
            "text/plain": [
              "<Figure size 432x288 with 1 Axes>"
            ]
          },
          "metadata": {
            "needs_background": "light"
          }
        }
      ]
    },
    {
      "cell_type": "code",
      "metadata": {
        "id": "s7EMbQ2gV2Aj"
      },
      "source": [
        "#Question 2\n",
        "def objective2(x):\n",
        "  return -x[0]*x[1]"
      ],
      "execution_count": null,
      "outputs": []
    },
    {
      "cell_type": "code",
      "metadata": {
        "id": "_rUDwcX8CteU"
      },
      "source": [
        "def cons2(x):\n",
        "  return 2*x[0]+x[1]-100\n",
        "con = {'type': 'eq', 'fun': cons2}"
      ],
      "execution_count": null,
      "outputs": []
    },
    {
      "cell_type": "code",
      "metadata": {
        "id": "Z1UgqPuMDEgj"
      },
      "source": [
        "b=(0,100)\n",
        "bnds=(b,b)\n",
        "x0=np.zeros(2)\n",
        "x0[0]=1.0\n",
        "x0[1]=1.0"
      ],
      "execution_count": null,
      "outputs": []
    },
    {
      "cell_type": "code",
      "metadata": {
        "colab": {
          "base_uri": "https://localhost:8080/"
        },
        "id": "k_Nlezb8Dcz-",
        "outputId": "26351b4b-c191-4c33-843f-59a05d9205a8"
      },
      "source": [
        "solution2 = spo.minimize(objective2,x0,method='SLSQP',bounds=bnds,constraints=con)\n",
        "x = solution2.x\n",
        "print(x)\n",
        "print(objective2(x))"
      ],
      "execution_count": null,
      "outputs": [
        {
          "output_type": "stream",
          "name": "stdout",
          "text": [
            "[24.99999586 50.00000827]\n",
            "-1249.9999999999657\n"
          ]
        }
      ]
    },
    {
      "cell_type": "code",
      "metadata": {
        "colab": {
          "base_uri": "https://localhost:8080/",
          "height": 265
        },
        "id": "CM3SI3yREDR8",
        "outputId": "7c59c438-bcbc-4a4b-efeb-acee00a01d35"
      },
      "source": [
        "input=np.arange(0,50,1)\n",
        "# print(input)\n",
        "results=[]\n",
        "for i in input:\n",
        "  results+=[-objective2([i,100-2*i])]\n",
        "plt.bar(input,results)\n",
        "plt.show()"
      ],
      "execution_count": null,
      "outputs": [
        {
          "output_type": "display_data",
          "data": {
            "image/png": "[encoded data removed]",
            "text/plain": [
              "<Figure size 432x288 with 1 Axes>"
            ]
          },
          "metadata": {
            "needs_background": "light"
          }
        }
      ]
    },
    {
      "cell_type": "code",
      "metadata": {
        "id": "RjaZpPwnFjRb"
      },
      "source": [
        "#Question 3\n",
        "def objective3(x):\n",
        "  return -(x[0]*x[1]+x[1]*x[2])"
      ],
      "execution_count": null,
      "outputs": []
    },
    {
      "cell_type": "code",
      "metadata": {
        "id": "ECZ598KVRSqC"
      },
      "source": [
        "def cons3_1(x):\n",
        "  return x[0]+2*x[1]-6\n",
        "def cons3_2(x):\n",
        "  return x[0]-3*x[2]\n",
        "con1 = {'type': 'eq', 'fun': cons3_1}\n",
        "con2 = {'type': 'eq', 'fun': cons3_2}\n",
        "cons = ([con1,con2])"
      ],
      "execution_count": null,
      "outputs": []
    },
    {
      "cell_type": "code",
      "metadata": {
        "id": "q8fVzDXBT0q5"
      },
      "source": [
        "x0=np.zeros(3)\n",
        "x0[0]=1.0\n",
        "x0[1]=1.0\n",
        "x0[2]=1.0"
      ],
      "execution_count": null,
      "outputs": []
    },
    {
      "cell_type": "code",
      "metadata": {
        "colab": {
          "base_uri": "https://localhost:8080/"
        },
        "id": "2uqL4zt4UTMU",
        "outputId": "8af1ae16-aa00-494c-8665-f3e181d2d020"
      },
      "source": [
        "solution3 = spo.minimize(objective3,x0,method='SLSQP',constraints=cons)\n",
        "x=solution3.x\n",
        "print(x)\n",
        "print(-objective3(x))"
      ],
      "execution_count": null,
      "outputs": [
        {
          "output_type": "stream",
          "name": "stdout",
          "text": [
            "[3.00000002 1.49999999 1.00000001]\n",
            "5.999999999999999\n"
          ]
        }
      ]
    },
    {
      "cell_type": "code",
      "metadata": {
        "colab": {
          "base_uri": "https://localhost:8080/",
          "height": 761
        },
        "id": "cBDhkyH1UrGw",
        "outputId": "ac6580dd-8155-4128-c52d-d776d08c0469"
      },
      "source": [
        "input=np.arange(0,5,0.2)\n",
        "# print(input)\n",
        "results=[]\n",
        "for i in input:\n",
        "  results+=[-objective3([i,(6-i)/2,i/3])]\n",
        "plt.plot(input,results)\n",
        "plt.show()\n",
        "plt.plot((6-input)/2,results)\n",
        "plt.show()\n",
        "plt.plot(input/3,results)\n",
        "plt.show()"
      ],
      "execution_count": null,
      "outputs": [
        {
          "output_type": "display_data",
          "data": {
            "image/png": "[encoded data removed]",
            "text/plain": [
              "<Figure size 432x288 with 1 Axes>"
            ]
          },
          "metadata": {
            "needs_background": "light"
          }
        },
        {
          "output_type": "display_data",
          "data": {
            "image/png": "[encoded data removed]",
            "text/plain": [
              "<Figure size 432x288 with 1 Axes>"
            ]
          },
          "metadata": {
            "needs_background": "light"
          }
        },
        {
          "output_type": "display_data",
          "data": {
            "image/png": "[encoded data removed]",
            "text/plain": [
              "<Figure size 432x288 with 1 Axes>"
            ]
          },
          "metadata": {
            "needs_background": "light"
          }
        }
      ]
    },
    {
      "cell_type": "code",
      "metadata": {
        "id": "zcGghuqTW41i"
      },
      "source": [
        "#Question 4\n",
        "#Function to minimize\n",
        "def objective(x):\n",
        "    return 13*(x[0]**2)+10*x[0]*x[1]+7*(x[1]**2)+x[0]+x[1]+2\n"
      ],
      "execution_count": null,
      "outputs": []
    },
    {
      "cell_type": "code",
      "metadata": {
        "id": "2YUVpih9bJqB"
      },
      "source": [
        "def cons1(x):\n",
        "  return 2*x[0]-5*x[1]-2\n",
        "def cons2(x):\n",
        "  return x[0]+x[1]-1"
      ],
      "execution_count": null,
      "outputs": []
    },
    {
      "cell_type": "code",
      "metadata": {
        "id": "_nfGy8HKbjei"
      },
      "source": [
        "x0=[0,0]\n",
        "con1 = {'type': 'eq', 'fun': cons1} \n",
        "con2 = {'type': 'eq', 'fun': cons2}\n",
        "cons = ([con1,con2])"
      ],
      "execution_count": null,
      "outputs": []
    },
    {
      "cell_type": "code",
      "metadata": {
        "colab": {
          "base_uri": "https://localhost:8080/"
        },
        "id": "Jn1O8vbDbtX_",
        "outputId": "2ecf3a0a-dc27-4fb3-f2fb-0f22932fef5c"
      },
      "source": [
        "solution = spo.minimize(objective,x0,method='SLSQP',constraints=cons)\n",
        "x=solution.x\n",
        "print(x)\n",
        "print(objective(x))"
      ],
      "execution_count": null,
      "outputs": [
        {
          "output_type": "stream",
          "name": "stdout",
          "text": [
            "[1.00000000e+00 3.41607086e-16]\n",
            "15.999999999999995\n"
          ]
        }
      ]
    },
    {
      "cell_type": "code",
      "metadata": {
        "colab": {
          "base_uri": "https://localhost:8080/",
          "height": 296
        },
        "id": "9o9SojqVkO4b",
        "outputId": "1aa41864-d17a-4a6e-8f05-304dc0a906ce"
      },
      "source": [
        "#for x1\n",
        "xr1= np.random.randint(-10, 20, 20)\n",
        "datax1= np.zeros((20, 2))\n",
        "for i in range(20):\n",
        "  datax1[i][0]= xr1[i]\n",
        "  datax1[i][1]= objective([xr1[i], 0])\n",
        "\n",
        "df = pd.DataFrame(datax1, columns=[\"x\", \"y\"])\n",
        "\n",
        "sb.lineplot(x=df[\"x\"], y=df[\"y\"])"
      ],
      "execution_count": null,
      "outputs": [
        {
          "output_type": "execute_result",
          "data": {
            "text/plain": [
              "<matplotlib.axes._subplots.AxesSubplot at 0x7f6370bb6610>"
            ]
          },
          "metadata": {},
          "execution_count": 43
        },
        {
          "output_type": "display_data",
          "data": {
            "image/png": "[encoded data removed]",
            "text/plain": [
              "<Figure size 432x288 with 1 Axes>"
            ]
          },
          "metadata": {
            "needs_background": "light"
          }
        }
      ]
    },
    {
      "cell_type": "code",
      "metadata": {
        "id": "7rUFZqDzYhN-"
      },
      "source": [
        "#Question 5\n",
        "#Function to minimize\n",
        "def objective5_1(x):\n",
        "    return 5*x[0]-3*x[1]\n",
        "#Function to minimize\n",
        "def objective5_2(x):\n",
        "  return -(5*x[0]-3*x[1])"
      ],
      "execution_count": null,
      "outputs": []
    },
    {
      "cell_type": "code",
      "metadata": {
        "id": "1E9mucHYY-b1"
      },
      "source": [
        "def cons5_1(x):\n",
        "  return x[0]**2+x[1]**2-136\n",
        "con = {'type': 'eq', 'fun': cons5_1}"
      ],
      "execution_count": null,
      "outputs": []
    },
    {
      "cell_type": "code",
      "metadata": {
        "colab": {
          "base_uri": "https://localhost:8080/"
        },
        "id": "QwkwMK9jZ_Nd",
        "outputId": "c153ee6f-49cd-4356-bb89-0e39497a22ee"
      },
      "source": [
        "x0=np.zeros(2)\n",
        "x0[0]=1.0\n",
        "x0[1]=1.0\n",
        "solution = spo.minimize(objective5_1,x0,method='SLSQP',constraints=con)\n",
        "x = solution.x\n",
        "print(x,objective5_1(x))\n",
        "solution = spo.minimize(objective5_2,x0,method='SLSQP',constraints=con)\n",
        "x = solution.x\n",
        "print(x,-objective5_2(x))"
      ],
      "execution_count": null,
      "outputs": [
        {
          "output_type": "stream",
          "name": "stdout",
          "text": [
            "[-9.99999961  6.00000066] -68.00000000006696\n",
            "[10.00000017 -5.99999972] 68.00000000367206\n"
          ]
        }
      ]
    },
    {
      "cell_type": "code",
      "metadata": {
        "colab": {
          "base_uri": "https://localhost:8080/",
          "height": 513
        },
        "id": "X9cX6JZeZrNg",
        "outputId": "16cd14d5-7091-4cd0-d7d6-66e4fcac5a66"
      },
      "source": [
        "input=np.arange(-11,-7,0.2)\n",
        "results=[]\n",
        "for i in input:\n",
        "  results+=[objective5_1([i,((136-i**2)**0.5)])]\n",
        "plt.plot(input,results)\n",
        "plt.show()\n",
        "input=np.arange(7,11,0.2)\n",
        "results=[]\n",
        "for i in input:\n",
        "  results+=[objective5_2([-i,((136-i**2)**0.5)])]\n",
        "plt.plot(input,results)\n",
        "plt.show()"
      ],
      "execution_count": null,
      "outputs": [
        {
          "output_type": "display_data",
          "data": {
            "image/png": "[encoded data removed]",
            "text/plain": [
              "<Figure size 432x288 with 1 Axes>"
            ]
          },
          "metadata": {
            "needs_background": "light"
          }
        },
        {
          "output_type": "display_data",
          "data": {
            "image/png": "[encoded data removed]",
            "text/plain": [
              "<Figure size 432x288 with 1 Axes>"
            ]
          },
          "metadata": {
            "needs_background": "light"
          }
        }
      ]
    }
  ]
}