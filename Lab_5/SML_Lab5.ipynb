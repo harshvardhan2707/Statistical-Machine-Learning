{
  "nbformat": 4,
  "nbformat_minor": 0,
  "metadata": {
    "colab": {
      "provenance": []
    },
    "kernelspec": {
      "name": "python3",
      "display_name": "Python 3"
    },
    "language_info": {
      "name": "python"
    }
  },
  "cells": [
    {
      "cell_type": "code",
      "metadata": {
        "id": "oCnE31hjZlUz"
      },
      "source": [
        "import numpy as np\n",
        "from sympy import *\n",
        "from sympy.solvers.solveset import solvify,solveset\n",
        "import matplotlib.pyplot as plt\n",
        "%matplotlib inline\n",
        "import seaborn as sns"
      ],
      "execution_count": null,
      "outputs": []
    },
    {
      "cell_type": "code",
      "metadata": {
        "colab": {
          "base_uri": "https://localhost:8080/",
          "height": 282
        },
        "id": "N5ovHXWObG7i",
        "outputId": "3f3351d2-8404-4095-b68f-72c5fb19a592"
      },
      "source": [
        "#Question 1\n",
        "x,y= symbols('x y')\n",
        "y=(12*x)-(3*(x**4))-(2*(x**6))\n",
        "expr=y.diff(x)\n",
        "expr2=y.diff(x,2)\n",
        "subV=expr.subs(x,2)\n",
        "eps=0.01\n",
        "xTop=2\n",
        "xBot=0\n",
        "x1=np.arange(0,2,0.1)\n",
        "y1=[y.subs(x,i) for i in x1]\n",
        "plt.plot(x1,y1)"
      ],
      "execution_count": null,
      "outputs": [
        {
          "output_type": "execute_result",
          "data": {
            "text/plain": [
              "[<matplotlib.lines.Line2D at 0x7fcb0608acd0>]"
            ]
          },
          "metadata": {},
          "execution_count": 46
        },
        {
          "output_type": "display_data",
          "data": {
            "image/png": "[encoded data removed]",
            "text/plain": [
              "<Figure size 432x288 with 1 Axes>"
            ]
          },
          "metadata": {
            "needs_background": "light"
          }
        }
      ]
    },
    {
      "cell_type": "code",
      "metadata": {
        "colab": {
          "base_uri": "https://localhost:8080/",
          "height": 466
        },
        "id": "eiSHrUWfjLgD",
        "outputId": "7ea75b1d-ceba-41e0-cb21-54dc5592950d"
      },
      "source": [
        "print(expr2.subs(x,0),expr2.subs(x,2))\n",
        "#Maximization Problem\n",
        "i=1\n",
        "# x1=np.arange(xBot,xTop,0.01)\n",
        "# y1=[y.subs(x,i) for i in x1]\n",
        "arrx=[]\n",
        "while(xTop-xBot>0.02):\n",
        "  m=(xTop+xBot)/2\n",
        "  if(expr.subs(x,m)>0):\n",
        "    xBot=m\n",
        "  else:\n",
        "    xTop=m\n",
        "  print(\"After iteration\",i,\"- df/dx-\",\"%.6f\"%(expr.subs(x,m)),\"xBot-\",\"%.6f\"%(xBot),\"xTop-\",\"%.6f\"%(xTop),\"x'-\",\"%.6f\"%(m),\"f(x')-\",\"%.6f\"%(y.subs(x,m)))\n",
        "  i+=1\n",
        "  arrx.append(m);\n",
        "  # plt.annotate(\"Hey\",(\"%.2f\"%m,y.subs(m)))\n",
        "arry=[y.subs(x,i) for i in arrx]\n",
        "plt.scatter(arrx,arry)\n",
        "print(expr.subs(x,xTop),xTop)\n",
        "print(expr.subs(x,xBot),xBot)\n",
        "print(y.subs(x,xBot))\n",
        "print(y.subs(x,xTop))"
      ],
      "execution_count": null,
      "outputs": [
        {
          "output_type": "stream",
          "name": "stdout",
          "text": [
            "0 -1104\n",
            "After iteration 1 - df/dx- -12.000000 xBot- 0.000000 xTop- 1.000000 x'- 1.000000 f(x')- 7.000000\n",
            "After iteration 2 - df/dx- 10.125000 xBot- 0.500000 xTop- 1.000000 x'- 0.500000 f(x')- 5.781250\n",
            "After iteration 3 - df/dx- 4.089844 xBot- 0.750000 xTop- 1.000000 x'- 0.750000 f(x')- 7.694824\n",
            "After iteration 4 - df/dx- -2.193970 xBot- 0.750000 xTop- 0.875000 x'- 0.875000 f(x')- 7.843864\n",
            "After iteration 5 - df/dx- 1.314365 xBot- 0.812500 xTop- 0.875000 x'- 0.812500 f(x')- 7.867181\n",
            "After iteration 6 - df/dx- -0.339699 xBot- 0.812500 xTop- 0.843750 x'- 0.843750 f(x')- 7.882908\n",
            "After iteration 7 - df/dx- 0.511253 xBot- 0.828125 xTop- 0.843750 x'- 0.828125 f(x')- 7.881504\n",
            "-0.339698910713196 0.84375\n",
            "0.511252943426371 0.828125\n",
            "7.88150424018386\n",
            "7.88290820829570\n"
          ]
        },
        {
          "output_type": "display_data",
          "data": {
            "image/png": "[encoded data removed]",
            "text/plain": [
              "<Figure size 432x288 with 1 Axes>"
            ]
          },
          "metadata": {
            "needs_background": "light"
          }
        }
      ]
    },
    {
      "cell_type": "code",
      "metadata": {
        "colab": {
          "base_uri": "https://localhost:8080/",
          "height": 282
        },
        "id": "8wgxwLbc9Gzr",
        "outputId": "5adeb838-1e8c-486a-cdd3-3b8c399f555a"
      },
      "source": [
        "#Question 2\n",
        "x,y= symbols('x y')\n",
        "y=(8*x)-(3*(x**2))+(x**3)-(2*(x**4))-(x**6)\n",
        "expr=y.diff(x)\n",
        "expr2=y.diff(x,2)\n",
        "subV=expr.subs(x,2)\n",
        "eps=0.01\n",
        "xTop=2\n",
        "xBot=0\n",
        "x1=np.arange(0,2,0.1)\n",
        "y1=[y.subs(x,i) for i in x1]\n",
        "plt.plot(x1,y1)"
      ],
      "execution_count": null,
      "outputs": [
        {
          "output_type": "execute_result",
          "data": {
            "text/plain": [
              "[<matplotlib.lines.Line2D at 0x7fcb06097450>]"
            ]
          },
          "metadata": {},
          "execution_count": 48
        },
        {
          "output_type": "display_data",
          "data": {
            "image/png": "[encoded data removed]",
            "text/plain": [
              "<Figure size 432x288 with 1 Axes>"
            ]
          },
          "metadata": {
            "needs_background": "light"
          }
        }
      ]
    },
    {
      "cell_type": "code",
      "metadata": {
        "colab": {
          "base_uri": "https://localhost:8080/",
          "height": 466
        },
        "id": "CrDNuvDG9jnz",
        "outputId": "329e03e2-e8b5-4a9c-ede3-7bb761e1eb66"
      },
      "source": [
        "#Question 2 Graph 1\n",
        "print(expr2.subs(x,0),expr2.subs(x,2))\n",
        "#Maximization Problem\n",
        "while(xTop-xBot>0.02):\n",
        "  m=(xTop+xBot)/2\n",
        "  if(expr.subs(x,m)>0):\n",
        "    xBot=m\n",
        "  else:\n",
        "    xTop=m\n",
        "  print(\"After iteration\",i)\n",
        "  x1=np.arange(xBot,xTop,0.02)\n",
        "  y1=[y.subs(x,i) for i in x1]\n",
        "  plt.plot(x1,y1)\n",
        "print(expr.subs(x,xTop),xTop)\n",
        "print(expr.subs(x,xBot),xBot)\n",
        "print(y.subs(x,xBot))\n",
        "print(y.subs(x,xTop))"
      ],
      "execution_count": null,
      "outputs": [
        {
          "output_type": "stream",
          "name": "stdout",
          "text": [
            "-6 -570\n",
            "After iteration 8\n",
            "After iteration 8\n",
            "After iteration 8\n",
            "After iteration 8\n",
            "After iteration 8\n",
            "After iteration 8\n",
            "After iteration 8\n",
            "-0.00402108393609524 0.765625\n",
            "0.388671875000000 0.75\n",
            "3.92358398437500\n",
            "3.92661532711645\n"
          ]
        },
        {
          "output_type": "display_data",
          "data": {
            "image/png": "[encoded data removed]",
            "text/plain": [
              "<Figure size 432x288 with 1 Axes>"
            ]
          },
          "metadata": {
            "needs_background": "light"
          }
        }
      ]
    },
    {
      "cell_type": "code",
      "metadata": {
        "colab": {
          "base_uri": "https://localhost:8080/",
          "height": 466
        },
        "id": "sv1wgxvLf-Yy",
        "outputId": "4bba056e-c74b-45a7-c6b4-85e3cbe6ec73"
      },
      "source": [
        "#Quesion 2 Graph 2(Made both the graphs because I wasn't sure which one to use)\n",
        "xTop=2\n",
        "xBot=0\n",
        "print(expr2.subs(x,0),expr2.subs(x,2))\n",
        "#Maximization Problem\n",
        "i=1\n",
        "# x1=np.arange(xBot,xTop,0.01)\n",
        "# y1=[y.subs(x,i) for i in x1]\n",
        "arrx=[]\n",
        "while(xTop-xBot>0.02):\n",
        "  m=(xTop+xBot)/2\n",
        "  if(expr.subs(x,m)>0):\n",
        "    xBot=m\n",
        "  else:\n",
        "    xTop=m\n",
        "  print(\"After iteration\",i,\"- df/dx-\",\"%.6f\"%(expr.subs(x,m)),\"xBot-\",\"%.6f\"%(xBot),\"xTop-\",\"%.6f\"%(xTop),\"x'-\",\"%.6f\"%(m),\"f(x')-\",\"%.6f\"%(y.subs(x,m)))\n",
        "  i+=1\n",
        "  arrx.append(m);\n",
        "  # plt.annotate(\"Hey\",(\"%.2f\"%m,y.subs(m)))\n",
        "arry=[y.subs(x,i) for i in arrx]\n",
        "plt.scatter(arrx,arry)\n",
        "print(expr.subs(x,xTop),xTop)\n",
        "print(expr.subs(x,xBot),xBot)\n",
        "print(y.subs(x,xBot))\n",
        "print(y.subs(x,xTop))"
      ],
      "execution_count": null,
      "outputs": [
        {
          "output_type": "stream",
          "name": "stdout",
          "text": [
            "-6 -570\n",
            "After iteration 1 - df/dx- -9.000000 xBot- 0.000000 xTop- 1.000000 x'- 1.000000 f(x')- 3.000000\n",
            "After iteration 2 - df/dx- 4.562500 xBot- 0.500000 xTop- 1.000000 x'- 0.500000 f(x')- 3.234375\n",
            "After iteration 3 - df/dx- 0.388672 xBot- 0.750000 xTop- 1.000000 x'- 0.750000 f(x')- 3.923584\n",
            "After iteration 4 - df/dx- -3.389954 xBot- 0.750000 xTop- 0.875000 x'- 0.875000 f(x')- 3.751888\n",
            "After iteration 5 - df/dx- -1.310102 xBot- 0.750000 xTop- 0.812500 x'- 0.812500 f(x')- 3.896595\n",
            "After iteration 6 - df/dx- -0.417372 xBot- 0.750000 xTop- 0.781250 x'- 0.781250 f(x')- 3.923351\n",
            "After iteration 7 - df/dx- -0.004021 xBot- 0.750000 xTop- 0.765625 x'- 0.765625 f(x')- 3.926615\n",
            "-0.00402108393609524 0.765625\n",
            "0.388671875000000 0.75\n",
            "3.92358398437500\n",
            "3.92661532711645\n"
          ]
        },
        {
          "output_type": "display_data",
          "data": {
            "image/png": "[encoded data removed]",
            "text/plain": [
              "<Figure size 432x288 with 1 Axes>"
            ]
          },
          "metadata": {
            "needs_background": "light"
          }
        }
      ]
    }
  ]
}